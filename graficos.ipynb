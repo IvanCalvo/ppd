{
 "cells": [
  {
   "cell_type": "code",
   "execution_count": 1,
   "metadata": {},
   "outputs": [],
   "source": [
    "import pandas as pd\n",
    "import matplotlib.pyplot as plt"
   ]
  },
  {
   "cell_type": "code",
   "execution_count": 2,
   "metadata": {},
   "outputs": [
    {
     "data": {
      "text/html": [
       "<div>\n",
       "<style scoped>\n",
       "    .dataframe tbody tr th:only-of-type {\n",
       "        vertical-align: middle;\n",
       "    }\n",
       "\n",
       "    .dataframe tbody tr th {\n",
       "        vertical-align: top;\n",
       "    }\n",
       "\n",
       "    .dataframe thead th {\n",
       "        text-align: right;\n",
       "    }\n",
       "</style>\n",
       "<table border=\"1\" class=\"dataframe\">\n",
       "  <thead>\n",
       "    <tr style=\"text-align: right;\">\n",
       "      <th></th>\n",
       "      <th>n_threads</th>\n",
       "      <th>tempo_seq</th>\n",
       "      <th>tempo_pthread</th>\n",
       "      <th>tempo_openmp</th>\n",
       "      <th>speedup_pthread</th>\n",
       "      <th>speedup_openmp</th>\n",
       "      <th>eficiencia_pthread</th>\n",
       "      <th>eficiencia_openmp</th>\n",
       "    </tr>\n",
       "  </thead>\n",
       "  <tbody>\n",
       "    <tr>\n",
       "      <th>0</th>\n",
       "      <td>1</td>\n",
       "      <td>3.401355</td>\n",
       "      <td>3.397986</td>\n",
       "      <td>3.393491</td>\n",
       "      <td>1.000000</td>\n",
       "      <td>1.000000</td>\n",
       "      <td>1.000000</td>\n",
       "      <td>1.000000</td>\n",
       "    </tr>\n",
       "    <tr>\n",
       "      <th>1</th>\n",
       "      <td>2</td>\n",
       "      <td>3.401355</td>\n",
       "      <td>1.697032</td>\n",
       "      <td>1.699927</td>\n",
       "      <td>2.002311</td>\n",
       "      <td>1.996257</td>\n",
       "      <td>1.001156</td>\n",
       "      <td>0.998128</td>\n",
       "    </tr>\n",
       "    <tr>\n",
       "      <th>2</th>\n",
       "      <td>5</td>\n",
       "      <td>3.401355</td>\n",
       "      <td>0.727662</td>\n",
       "      <td>0.725537</td>\n",
       "      <td>4.669731</td>\n",
       "      <td>4.677213</td>\n",
       "      <td>0.933946</td>\n",
       "      <td>0.935443</td>\n",
       "    </tr>\n",
       "    <tr>\n",
       "      <th>3</th>\n",
       "      <td>10</td>\n",
       "      <td>3.401355</td>\n",
       "      <td>0.419893</td>\n",
       "      <td>0.383445</td>\n",
       "      <td>8.092505</td>\n",
       "      <td>8.850007</td>\n",
       "      <td>0.809250</td>\n",
       "      <td>0.885001</td>\n",
       "    </tr>\n",
       "    <tr>\n",
       "      <th>4</th>\n",
       "      <td>20</td>\n",
       "      <td>3.401355</td>\n",
       "      <td>0.280027</td>\n",
       "      <td>0.290585</td>\n",
       "      <td>12.134494</td>\n",
       "      <td>11.678135</td>\n",
       "      <td>0.606725</td>\n",
       "      <td>0.583907</td>\n",
       "    </tr>\n",
       "    <tr>\n",
       "      <th>5</th>\n",
       "      <td>40</td>\n",
       "      <td>3.401355</td>\n",
       "      <td>0.236643</td>\n",
       "      <td>0.215612</td>\n",
       "      <td>14.359123</td>\n",
       "      <td>15.738878</td>\n",
       "      <td>0.358978</td>\n",
       "      <td>0.393472</td>\n",
       "    </tr>\n",
       "  </tbody>\n",
       "</table>\n",
       "</div>"
      ],
      "text/plain": [
       "   n_threads  tempo_seq  tempo_pthread  tempo_openmp  speedup_pthread  \\\n",
       "0          1   3.401355       3.397986      3.393491         1.000000   \n",
       "1          2   3.401355       1.697032      1.699927         2.002311   \n",
       "2          5   3.401355       0.727662      0.725537         4.669731   \n",
       "3         10   3.401355       0.419893      0.383445         8.092505   \n",
       "4         20   3.401355       0.280027      0.290585        12.134494   \n",
       "5         40   3.401355       0.236643      0.215612        14.359123   \n",
       "\n",
       "   speedup_openmp  eficiencia_pthread  eficiencia_openmp  \n",
       "0        1.000000            1.000000           1.000000  \n",
       "1        1.996257            1.001156           0.998128  \n",
       "2        4.677213            0.933946           0.935443  \n",
       "3        8.850007            0.809250           0.885001  \n",
       "4       11.678135            0.606725           0.583907  \n",
       "5       15.738878            0.358978           0.393472  "
      ]
     },
     "execution_count": 2,
     "metadata": {},
     "output_type": "execute_result"
    }
   ],
   "source": [
    "data_ep1 = pd.read_csv('ep1_dados.csv', decimal=',')\n",
    "data_ep1"
   ]
  },
  {
   "cell_type": "code",
   "execution_count": 3,
   "metadata": {},
   "outputs": [
    {
     "data": {
      "image/png": "[encoded data removed]",
      "text/plain": [
       "<Figure size 720x720 with 1 Axes>"
      ]
     },
     "metadata": {
      "needs_background": "light"
     },
     "output_type": "display_data"
    }
   ],
   "source": [
    "plt.figure(figsize=(10,10))\n",
    "plt.plot(data_ep1['n_threads'], data_ep1['tempo_seq'], label='tempo sequencial')\n",
    "plt.plot(data_ep1['n_threads'], data_ep1['tempo_pthread'], label='tempo pthread')\n",
    "plt.plot(data_ep1['n_threads'], data_ep1['tempo_openmp'], label='tempo openMP')\n",
    "plt.legend(loc=7)\n",
    "plt.show()"
   ]
  },
  {
   "cell_type": "code",
   "execution_count": 14,
   "metadata": {},
   "outputs": [
    {
     "data": {
      "text/html": [
       "<div>\n",
       "<style scoped>\n",
       "    .dataframe tbody tr th:only-of-type {\n",
       "        vertical-align: middle;\n",
       "    }\n",
       "\n",
       "    .dataframe tbody tr th {\n",
       "        vertical-align: top;\n",
       "    }\n",
       "\n",
       "    .dataframe thead th {\n",
       "        text-align: right;\n",
       "    }\n",
       "</style>\n",
       "<table border=\"1\" class=\"dataframe\">\n",
       "  <thead>\n",
       "    <tr style=\"text-align: right;\">\n",
       "      <th></th>\n",
       "      <th>n_threads</th>\n",
       "      <th>tempo</th>\n",
       "      <th>speedup</th>\n",
       "    </tr>\n",
       "  </thead>\n",
       "  <tbody>\n",
       "    <tr>\n",
       "      <th>0</th>\n",
       "      <td>1</td>\n",
       "      <td>101.003957</td>\n",
       "      <td>1.000000</td>\n",
       "    </tr>\n",
       "    <tr>\n",
       "      <th>1</th>\n",
       "      <td>2</td>\n",
       "      <td>52.620582</td>\n",
       "      <td>1.919476</td>\n",
       "    </tr>\n",
       "    <tr>\n",
       "      <th>2</th>\n",
       "      <td>4</td>\n",
       "      <td>32.274062</td>\n",
       "      <td>3.129571</td>\n",
       "    </tr>\n",
       "    <tr>\n",
       "      <th>3</th>\n",
       "      <td>8</td>\n",
       "      <td>26.151594</td>\n",
       "      <td>3.862249</td>\n",
       "    </tr>\n",
       "    <tr>\n",
       "      <th>4</th>\n",
       "      <td>16</td>\n",
       "      <td>24.178068</td>\n",
       "      <td>4.177503</td>\n",
       "    </tr>\n",
       "    <tr>\n",
       "      <th>5</th>\n",
       "      <td>24</td>\n",
       "      <td>23.830605</td>\n",
       "      <td>4.238413</td>\n",
       "    </tr>\n",
       "    <tr>\n",
       "      <th>6</th>\n",
       "      <td>32</td>\n",
       "      <td>23.885140</td>\n",
       "      <td>4.228736</td>\n",
       "    </tr>\n",
       "    <tr>\n",
       "      <th>7</th>\n",
       "      <td>36</td>\n",
       "      <td>26.679517</td>\n",
       "      <td>3.785824</td>\n",
       "    </tr>\n",
       "    <tr>\n",
       "      <th>8</th>\n",
       "      <td>40</td>\n",
       "      <td>27.401371</td>\n",
       "      <td>3.686091</td>\n",
       "    </tr>\n",
       "  </tbody>\n",
       "</table>\n",
       "</div>"
      ],
      "text/plain": [
       "   n_threads       tempo   speedup\n",
       "0          1  101.003957  1.000000\n",
       "1          2   52.620582  1.919476\n",
       "2          4   32.274062  3.129571\n",
       "3          8   26.151594  3.862249\n",
       "4         16   24.178068  4.177503\n",
       "5         24   23.830605  4.238413\n",
       "6         32   23.885140  4.228736\n",
       "7         36   26.679517  3.785824\n",
       "8         40   27.401371  3.686091"
      ]
     },
     "execution_count": 14,
     "metadata": {},
     "output_type": "execute_result"
    }
   ],
   "source": [
    "data_ep3 = pd.read_csv('ep3_dados.csv')\n",
    "data_ep3['speedup'] = (data_ep3['tempo'][0]/data_ep3['tempo'])\n",
    "data_ep3"
   ]
  },
  {
   "cell_type": "code",
   "execution_count": 41,
   "metadata": {},
   "outputs": [
    {
     "data": {
      "image/png": "[encoded data removed]",
      "text/plain": [
       "<Figure size 720x720 with 1 Axes>"
      ]
     },
     "metadata": {
      "needs_background": "light"
     },
     "output_type": "display_data"
    }
   ],
   "source": [
    "ax = data_ep3.plot(x='n_threads', y='speedup', figsize=(10,10), grid=True)\n",
    "ax.set_xticks(data_ep3['n_threads'])\n",
    "plt.show()"
   ]
  }
 ],
 "metadata": {
  "kernelspec": {
   "display_name": "Python 3",
   "language": "python",
   "name": "python3"
  },
  "language_info": {
   "codemirror_mode": {
    "name": "ipython",
    "version": 3
   },
   "file_extension": ".py",
   "mimetype": "text/x-python",
   "name": "python",
   "nbconvert_exporter": "python",
   "pygments_lexer": "ipython3",
   "version": "3.10.6"
  },
  "orig_nbformat": 4,
  "vscode": {
   "interpreter": {
    "hash": "916dbcbb3f70747c44a77c7bcd40155683ae19c65e1c03b4aa3499c5328201f1"
   }
  }
 },
 "nbformat": 4,
 "nbformat_minor": 2
}
